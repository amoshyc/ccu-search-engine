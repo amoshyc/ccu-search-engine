{
 "cells": [
  {
   "cell_type": "code",
   "execution_count": 14,
   "metadata": {},
   "outputs": [],
   "source": [
    "%matplotlib inline\n",
    "import numpy as np\n",
    "import pandas as pd\n",
    "import matplotlib.pyplot as plt\n",
    "plt.style.use('seaborn')\n",
    "\n",
    "import time\n",
    "import json\n",
    "import shutil\n",
    "import pathlib\n",
    "from pprint import pprint\n",
    "from tqdm import tqdm"
   ]
  },
  {
   "cell_type": "code",
   "execution_count": 15,
   "metadata": {},
   "outputs": [],
   "source": [
    "%%script bash --bg\n",
    "../elasticsearch-6.2.2/bin/elasticsearch"
   ]
  },
  {
   "cell_type": "code",
   "execution_count": 16,
   "metadata": {},
   "outputs": [],
   "source": [
    "!sleep 20 # Wait for ES"
   ]
  },
  {
   "cell_type": "code",
   "execution_count": 18,
   "metadata": {},
   "outputs": [
    {
     "name": "stderr",
     "output_type": "stream",
     "text": [
      "100%|██████████| 5000/5000 [00:09<00:00, 544.98it/s]\n"
     ]
    },
    {
     "name": "stdout",
     "output_type": "stream",
     "text": [
      "ES size before: 32M\n",
      "ES size after : 63M\n"
     ]
    }
   ],
   "source": [
    "from elasticsearch import Elasticsearch\n",
    "from elasticsearch import helpers\n",
    "\n",
    "def get_es_size():\n",
    "    res = !du -sh ../elasticsearch-6.2.2/\n",
    "    return res.s.split()[0]\n",
    "\n",
    "es = Elasticsearch()\n",
    "es.indices.delete(index='ettoday', ignore_unavailable=True)\n",
    "size_before = get_es_size()\n",
    "\n",
    "json_paths = sorted(pathlib.Path('../data/json').glob('*.json'))\n",
    "batch_size = 1000\n",
    "\n",
    "actions = []\n",
    "for path in tqdm(json_paths):\n",
    "    with path.open() as f:\n",
    "        record = json.load(f)\n",
    "    actions.append({\n",
    "        '_index': 'ettoday',\n",
    "        '_type': 'news',\n",
    "        '_id': int(path.stem),\n",
    "        '_source': record,\n",
    "    })\n",
    "    if len(actions) == batch_size:\n",
    "        helpers.bulk(es, actions)\n",
    "        actions = []    \n",
    "if len(actions) > 0:\n",
    "    helpers.bulk(es, actions)\n",
    "\n",
    "size_after = get_es_size()\n",
    "print('ES size before:', size_before)\n",
    "print('ES size after :', size_after)"
   ]
  },
  {
   "cell_type": "code",
   "execution_count": null,
   "metadata": {},
   "outputs": [
    {
     "name": "stderr",
     "output_type": "stream",
     "text": [
      "\r",
      "  0%|          | 0/10000 [00:00<?, ?it/s]"
     ]
    },
    {
     "name": "stdout",
     "output_type": "stream",
     "text": [
      "['確保' '觀感' '民國' '關乎' '漏夜' '岳飛' '強調' '輕鬆' '得' '創新']\n"
     ]
    },
    {
     "name": "stderr",
     "output_type": "stream",
     "text": [
      " 49%|████▉     | 4944/10000 [00:45<00:46, 108.31it/s]"
     ]
    }
   ],
   "source": [
    "queries = np.load('../data/queries.npy')[:10_000]\n",
    "\n",
    "query = {\n",
    "    \"query\": {\n",
    "        \"query_string\": {\n",
    "            \"query\": '*',\n",
    "        }\n",
    "    },\n",
    "    \"sort\": [\n",
    "        { '_score': 'desc' },\n",
    "        { '_id': 'asc' }\n",
    "    ],\n",
    "}\n",
    "\n",
    "def es_query(q):\n",
    "    query['query']['query_string']['query'] = q\n",
    "    res = es.search(index='ettoday', doc_type='news', body=query)\n",
    "    return int(res['took'])\n",
    "\n",
    "\n",
    "# Note that CPU is not utilized to 100%\n",
    "df = pd.DataFrame(columns=['size', 'es_time', 'es_real_time'])\n",
    "es_time = 0\n",
    "start_time = time.time()\n",
    "\n",
    "for i, q in enumerate(tqdm(queries)):\n",
    "    es_time += es_query(q)\n",
    "    if (i + 1) % 1000 == 0:\n",
    "        data = {\n",
    "            'size': i + 1, \n",
    "            'es_time': es_time / 1000, \n",
    "            'es_real_time': time.time() - start_time\n",
    "        }\n",
    "        df = df.append(data, ignore_index=True)"
   ]
  },
  {
   "cell_type": "code",
   "execution_count": null,
   "metadata": {},
   "outputs": [],
   "source": [
    "fig, ax = plt.subplots(dpi=100)\n",
    "df.plot(ax=ax, x='size', y='es_time')\n",
    "df.plot(ax=ax, x='size', y='es_real_time')\n",
    "ax.set_ylabel('Time(s)')\n",
    "ax.set_xlabel('Number of Queries')\n",
    "ax.set_title('Query Time vs Query Number')\n",
    "plt.show()"
   ]
  },
  {
   "cell_type": "code",
   "execution_count": null,
   "metadata": {},
   "outputs": [],
   "source": [
    "!pkill -f elasticsearch"
   ]
  }
 ],
 "metadata": {
  "kernelspec": {
   "display_name": "Python 3",
   "language": "python",
   "name": "python3"
  },
  "language_info": {
   "codemirror_mode": {
    "name": "ipython",
    "version": 3
   },
   "file_extension": ".py",
   "mimetype": "text/x-python",
   "name": "python",
   "nbconvert_exporter": "python",
   "pygments_lexer": "ipython3",
   "version": "3.6.2"
  }
 },
 "nbformat": 4,
 "nbformat_minor": 2
}
