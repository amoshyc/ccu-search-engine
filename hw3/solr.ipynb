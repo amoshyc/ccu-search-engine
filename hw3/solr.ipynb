{
 "cells": [
  {
   "cell_type": "code",
   "execution_count": null,
   "metadata": {},
   "outputs": [],
   "source": [
    "%matplotlib inline\n",
    "import numpy as np\n",
    "import pandas as pd\n",
    "import matplotlib.pyplot as plt\n",
    "plt.style.use('seaborn')\n",
    "\n",
    "import time\n",
    "import json\n",
    "import shutil\n",
    "import pathlib\n",
    "from pprint import pprint\n",
    "from tqdm import tqdm"
   ]
  },
  {
   "cell_type": "code",
   "execution_count": null,
   "metadata": {},
   "outputs": [],
   "source": [
    "%%time\n",
    "import pathlib\n",
    "\n",
    "json_paths = sorted(pathlib.Path('../data/json').glob('*.json'))\n",
    "large_json = pathlib.Path('../data/single.json')\n",
    "with large_json.open('w') as fout:\n",
    "    fout.write('[')\n",
    "    for i, path in enumerate(json_paths):\n",
    "        if i != 0:\n",
    "            fout.write(',')\n",
    "        with path.open('r') as fin:\n",
    "            fout.write(fin.read())\n",
    "    fout.write(']')"
   ]
  }
 ],
 "metadata": {
  "kernelspec": {
   "display_name": "Python 3",
   "language": "python",
   "name": "python3"
  },
  "language_info": {
   "codemirror_mode": {
    "name": "ipython",
    "version": 3
   },
   "file_extension": ".py",
   "mimetype": "text/x-python",
   "name": "python",
   "nbconvert_exporter": "python",
   "pygments_lexer": "ipython3",
   "version": "3.6.2"
  }
 },
 "nbformat": 4,
 "nbformat_minor": 2
}
