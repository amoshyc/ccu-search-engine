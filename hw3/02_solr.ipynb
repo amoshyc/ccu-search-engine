{
 "cells": [
  {
   "cell_type": "code",
   "execution_count": 6,
   "metadata": {},
   "outputs": [],
   "source": [
    "%matplotlib inline\n",
    "import numpy as np\n",
    "import pandas as pd\n",
    "import matplotlib.pyplot as plt\n",
    "plt.style.use('seaborn')\n",
    "\n",
    "import time\n",
    "import json\n",
    "import shutil\n",
    "import pathlib\n",
    "from pprint import pprint\n",
    "from subprocess import check_output\n",
    "from tqdm import tqdm"
   ]
  },
  {
   "cell_type": "code",
   "execution_count": 3,
   "metadata": {},
   "outputs": [
    {
     "name": "stderr",
     "output_type": "stream",
     "text": [
      "100%|██████████| 20000/20000 [00:01<00:00, 14118.24it/s]\n"
     ]
    },
    {
     "name": "stdout",
     "output_type": "stream",
     "text": [
      "CPU times: user 1.63 s, sys: 233 ms, total: 1.86 s\n",
      "Wall time: 2.14 s\n"
     ]
    }
   ],
   "source": [
    "%%time\n",
    "\n",
    "json_paths = sorted(pathlib.Path('../data/json').glob('*.json'))\n",
    "large_json = pathlib.Path('../data/single.json')\n",
    "with large_json.open('w') as fout:\n",
    "    fout.write('[')\n",
    "    for i, path in enumerate(tqdm(json_paths)):\n",
    "        if i != 0:\n",
    "            fout.write(',')\n",
    "        with path.open('r') as fin:\n",
    "            fout.write(fin.read())\n",
    "    fout.write(']')"
   ]
  },
  {
   "cell_type": "code",
   "execution_count": 4,
   "metadata": {},
   "outputs": [
    {
     "name": "stdout",
     "output_type": "stream",
     "text": [
      "183M\t../solr-7.3.0/\r\n"
     ]
    }
   ],
   "source": [
    "!du -sh ../solr-7.3.0/"
   ]
  },
  {
   "cell_type": "code",
   "execution_count": 2,
   "metadata": {},
   "outputs": [
    {
     "name": "stdout",
     "output_type": "stream",
     "text": [
      "*** [WARN] *** Your open file limit is currently 1024.  \n",
      " It should be set to 65000 to avoid operational disruption. \n",
      " If you no longer wish to see this warning, set SOLR_ULIMIT_CHECKS to false in your profile or solr.in.sh\n",
      "*** [WARN] ***  Your Max Processes Limit is currently 31295. \n",
      " It should be set to 65000 to avoid operational disruption. \n",
      " If you no longer wish to see this warning, set SOLR_ULIMIT_CHECKS to false in your profile or solr.in.sh\n",
      "Waiting up to 180 seconds to see Solr running on port 8983 [|] [/] [-] [\\] [|] [/] [-] [\\] [|] [/] [-] [\\] [|] [/] [-] [\\]  \n",
      "Started Solr server on port 8983 (pid=14313). Happy searching!\n",
      "\n",
      "  "
     ]
    }
   ],
   "source": [
    "!../solr-7.3.0/bin/solr start"
   ]
  },
  {
   "cell_type": "code",
   "execution_count": 3,
   "metadata": {},
   "outputs": [
    {
     "name": "stdout",
     "output_type": "stream",
     "text": [
      "WARNING: Using _default configset with data driven schema functionality. NOT RECOMMENDED for production use.\n",
      "         To turn off: bin/solr config -c ettoday -p 8983 -property update.autoCreateFields -value false\n",
      "\n",
      "Created new core 'ettoday'\n"
     ]
    }
   ],
   "source": [
    "!../solr-7.3.0/bin/solr create -c ettoday"
   ]
  },
  {
   "cell_type": "code",
   "execution_count": 4,
   "metadata": {},
   "outputs": [
    {
     "name": "stdout",
     "output_type": "stream",
     "text": [
      "{\n",
      "  \"responseHeader\":{\n",
      "    \"status\":0,\n",
      "    \"QTime\":14828}}\n"
     ]
    },
    {
     "name": "stderr",
     "output_type": "stream",
     "text": [
      "  % Total    % Received % Xferd  Average Speed   Time    Time     Time  Current\n",
      "                                 Dload  Upload   Total   Spent    Left  Speed\n",
      "\r",
      "  0     0    0     0    0     0      0      0 --:--:-- --:--:-- --:--:--     0\r",
      "  6 46.1M    0     0    6 2848k      0  2848k  0:00:16 --:--:--  0:00:16 6654k\r",
      "  6 46.1M    0     0    6 3296k      0  3296k  0:00:14  0:00:01  0:00:13 2463k\r",
      " 11 46.1M    0     0   11 5664k      0  2832k  0:00:16  0:00:02  0:00:14 2397k\r",
      " 23 46.1M    0     0   23 10.8M      0  3696k  0:00:12  0:00:03  0:00:09 3298k\r",
      " 36 46.1M    0     0   36 16.6M      0  4260k  0:00:11  0:00:04  0:00:07 3937k\r",
      " 48 46.1M    0     0   48 22.5M      0  4624k  0:00:10  0:00:05  0:00:05 4132k\r",
      " 59 46.1M    0     0   59 27.5M      0  4704k  0:00:10  0:00:06  0:00:04 4997k\r",
      " 69 46.1M    0     0   69 31.9M      0  4672k  0:00:10  0:00:07  0:00:03 5373k\r",
      " 81 46.1M    0     0   81 37.7M      0  4838k  0:00:09  0:00:08  0:00:01 5546k\r",
      " 96 46.1M    0     0   96 44.4M      0  5061k  0:00:09  0:00:09 --:--:-- 5688k\r",
      "100 46.1M    0     0  100 46.1M      0  4729k  0:00:10  0:00:10 --:--:-- 4591k\r",
      "100 46.1M    0     0  100 46.1M      0  4299k  0:00:11  0:00:11 --:--:-- 3614k\r",
      "100 46.1M    0     0  100 46.1M      0  3941k  0:00:12  0:00:12 --:--:-- 2801k\r",
      "100 46.1M    0     0  100 46.1M      0  3638k  0:00:13  0:00:13 --:--:-- 1631k\r",
      "100 46.1M    0     0  100 46.1M      0  3378k  0:00:14  0:00:14 --:--:--  331k\r",
      "100 46.1M  100    59  100 46.1M      4  3378k  0:00:14  0:00:14 --:--:--    13\n",
      "\n",
      "real\t0m14.881s\n",
      "user\t0m0.014s\n",
      "sys\t0m0.063s\n"
     ]
    }
   ],
   "source": [
    "%%bash\n",
    "curl 'http://localhost:8983/solr/ettoday/update?commit=true' \\\n",
    "    --data-binary @../data/single.json \\\n",
    "    -H 'Content-type:application/json'"
   ]
  },
  {
   "cell_type": "code",
   "execution_count": null,
   "metadata": {},
   "outputs": [],
   "source": [
    "!du -sh ../solr-7.3.0/"
   ]
  },
  {
   "cell_type": "code",
   "execution_count": null,
   "metadata": {},
   "outputs": [],
   "source": [
    "# %%bash\n",
    "# curl http://localhost:8983/solr/ettoday/query -d '\n",
    "# {\n",
    "#   \"query\" : \"body:中文\",\n",
    "# }'"
   ]
  },
  {
   "cell_type": "code",
   "execution_count": 33,
   "metadata": {},
   "outputs": [
    {
     "name": "stderr",
     "output_type": "stream",
     "text": [
      "\n",
      "  0%|          | 0/10000 [00:00<?, ?it/s]\u001b[A\n",
      "  0%|          | 4/10000 [00:00<05:05, 32.74it/s]\u001b[A\n",
      "  0%|          | 8/10000 [00:00<04:53, 34.09it/s]\u001b[A\n",
      "  0%|          | 12/10000 [00:00<04:47, 34.73it/s]\u001b[A\n",
      "  0%|          | 16/10000 [00:00<04:44, 35.05it/s]\u001b[A\n",
      "  0%|          | 20/10000 [00:00<04:39, 35.75it/s]\u001b[A\n",
      "  0%|          | 24/10000 [00:00<04:44, 35.12it/s]\u001b[A\n",
      "  0%|          | 28/10000 [00:00<04:49, 34.43it/s]\u001b[A\n",
      "  0%|          | 32/10000 [00:00<04:49, 34.49it/s]\u001b[A\n",
      "  0%|          | 37/10000 [00:01<04:42, 35.33it/s]\u001b[A\n",
      "  0%|          | 41/10000 [00:01<04:39, 35.64it/s]\u001b[A\n",
      "  0%|          | 45/10000 [00:01<04:36, 35.95it/s]\u001b[A\n",
      "  0%|          | 49/10000 [00:01<04:35, 36.07it/s]\u001b[A\n",
      "  1%|          | 53/10000 [00:01<04:34, 36.18it/s]\u001b[A\n",
      "  1%|          | 57/10000 [00:01<04:33, 36.36it/s]\u001b[A\n",
      "  1%|          | 61/10000 [00:01<04:34, 36.27it/s]\u001b[A\n",
      "  1%|          | 65/10000 [00:01<04:39, 35.59it/s]\u001b[A\n",
      "  1%|          | 69/10000 [00:01<04:38, 35.70it/s]\u001b[A\n",
      "  1%|          | 74/10000 [00:02<04:35, 36.06it/s]\u001b[A\n",
      "  1%|          | 78/10000 [00:02<04:36, 35.94it/s]\u001b[A\n",
      "  1%|          | 82/10000 [00:02<04:52, 33.96it/s]Exception in thread Thread-4:\n",
      "Traceback (most recent call last):\n",
      "  File \"/home/amoshyc/miniconda3/envs/ccu-se/lib/python3.6/threading.py\", line 916, in _bootstrap_inner\n",
      "    self.run()\n",
      "  File \"/home/amoshyc/miniconda3/envs/ccu-se/lib/python3.6/site-packages/tqdm/_tqdm.py\", line 148, in run\n",
      "    for instance in self.tqdm_cls._instances:\n",
      "  File \"/home/amoshyc/miniconda3/envs/ccu-se/lib/python3.6/_weakrefset.py\", line 60, in __iter__\n",
      "    for itemref in self.data:\n",
      "RuntimeError: Set changed size during iteration\n",
      "\n",
      "100%|██████████| 10000/10000 [04:11<00:00, 39.77it/s]\n"
     ]
    }
   ],
   "source": [
    "queries = np.load('../data/queries.npy')[:10000]\n",
    "\n",
    "cmd_fmt = 'curl -s http://localhost:8983/solr/ettoday/query -d \"{}\"'\n",
    "\n",
    "def solr_query(q):\n",
    "    cmd = cmd_fmt.format({\n",
    "        'query': 'body:{}'.format(q)\n",
    "    })\n",
    "    res = json.loads(check_output(cmd, shell=True).decode('utf-8'))\n",
    "    return res['responseHeader']['QTime']\n",
    "\n",
    "df = pd.DataFrame(columns=['size', 'solr_time', 'solr_real_time'])\n",
    "solr_time = 0\n",
    "start_time = time.time()\n",
    "for i, q in enumerate(tqdm(queries)):\n",
    "    solr_time += solr_query(q)\n",
    "    if (i + 1) % 1000 == 0:\n",
    "        data = {\n",
    "            'size': i + 1, \n",
    "            'solr_time': solr_time / 1000, \n",
    "            'solr_real_time': time.time() - start_time\n",
    "        }\n",
    "        df = df.append(data, ignore_index=True)\n",
    "\n",
    "df.to_csv('../data/solr_df.csv', index=False)"
   ]
  },
  {
   "cell_type": "code",
   "execution_count": 36,
   "metadata": {},
   "outputs": [
    {
     "data": {
      "image/png": "[encoded data removed]",
      "text/plain": [
       "<Figure size 600x400 with 1 Axes>"
      ]
     },
     "metadata": {},
     "output_type": "display_data"
    }
   ],
   "source": [
    "fig, ax = plt.subplots(dpi=100)\n",
    "df.plot(ax=ax, x='size', y='solr_time')\n",
    "df.plot(ax=ax, x='size', y='solr_real_time')\n",
    "ax.set_ylabel('Time(s)')\n",
    "ax.set_xlabel('Number of Queries')\n",
    "ax.set_title('Query Time vs Query Number')\n",
    "plt.show()"
   ]
  },
  {
   "cell_type": "code",
   "execution_count": 2,
   "metadata": {},
   "outputs": [
    {
     "name": "stderr",
     "output_type": "stream",
     "text": [
      "  % Total    % Received % Xferd  Average Speed   Time    Time     Time  Current\n",
      "                                 Dload  Upload   Total   Spent    Left  Speed\n",
      "\r",
      "  0     0    0     0    0     0      0      0 --:--:-- --:--:-- --:--:--     0curl: (7) Failed to connect to localhost port 8983: Connection refused\n"
     ]
    }
   ],
   "source": [
    "%%bash\n",
    "# delete core\n",
    "curl \"http://localhost:8983/solr/admin/cores?action=UNLOAD&core=ettoday&deleteIndex=true&deleteDataDir=true&deleteInstanceDir=true\""
   ]
  },
  {
   "cell_type": "code",
   "execution_count": 3,
   "metadata": {},
   "outputs": [],
   "source": [
    "!../solr-7.3.0/bin/solr stop -all"
   ]
  },
  {
   "cell_type": "code",
   "execution_count": null,
   "metadata": {},
   "outputs": [],
   "source": []
  }
 ],
 "metadata": {
  "kernelspec": {
   "display_name": "Python 3",
   "language": "python",
   "name": "python3"
  },
  "language_info": {
   "codemirror_mode": {
    "name": "ipython",
    "version": 3
   },
   "file_extension": ".py",
   "mimetype": "text/x-python",
   "name": "python",
   "nbconvert_exporter": "python",
   "pygments_lexer": "ipython3",
   "version": "3.6.2"
  }
 },
 "nbformat": 4,
 "nbformat_minor": 2
}
