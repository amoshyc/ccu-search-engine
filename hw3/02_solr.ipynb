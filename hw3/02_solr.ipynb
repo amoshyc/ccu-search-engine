{
 "cells": [
  {
   "cell_type": "code",
   "execution_count": 14,
   "metadata": {},
   "outputs": [],
   "source": [
    "%matplotlib inline\n",
    "import numpy as np\n",
    "import pandas as pd\n",
    "import matplotlib.pyplot as plt\n",
    "plt.style.use('seaborn')\n",
    "\n",
    "import time\n",
    "import json\n",
    "import shutil\n",
    "import pathlib\n",
    "from pprint import pprint\n",
    "from subprocess import check_output\n",
    "from tqdm import tqdm"
   ]
  },
  {
   "cell_type": "code",
   "execution_count": 2,
   "metadata": {},
   "outputs": [
    {
     "name": "stderr",
     "output_type": "stream",
     "text": [
      "100%|██████████| 500000/500000 [03:24<00:00, 2439.45it/s]\n"
     ]
    },
    {
     "name": "stdout",
     "output_type": "stream",
     "text": [
      "CPU times: user 58.1 s, sys: 20 s, total: 1min 18s\n",
      "Wall time: 3min 38s\n"
     ]
    }
   ],
   "source": [
    "%%time\n",
    "\n",
    "json_paths = sorted(pathlib.Path('../data/json').glob('*.json'))\n",
    "large_json = pathlib.Path('../data/single.json')\n",
    "with large_json.open('w') as fout:\n",
    "    fout.write('[')\n",
    "    for i, path in enumerate(tqdm(json_paths)):\n",
    "        if i != 0:\n",
    "            fout.write(',')\n",
    "        with path.open('r') as fin:\n",
    "            fout.write(fin.read())\n",
    "    fout.write(']')"
   ]
  },
  {
   "cell_type": "code",
   "execution_count": 7,
   "metadata": {},
   "outputs": [
    {
     "name": "stdout",
     "output_type": "stream",
     "text": [
      "185M\t../solr-7.3.0/\r\n"
     ]
    }
   ],
   "source": [
    "!du -sh ../solr-7.3.0/"
   ]
  },
  {
   "cell_type": "code",
   "execution_count": 8,
   "metadata": {},
   "outputs": [
    {
     "name": "stdout",
     "output_type": "stream",
     "text": [
      "*** [WARN] *** Your open file limit is currently 1024.  \n",
      " It should be set to 65000 to avoid operational disruption. \n",
      " If you no longer wish to see this warning, set SOLR_ULIMIT_CHECKS to false in your profile or solr.in.sh\n",
      "*** [WARN] ***  Your Max Processes Limit is currently 31295. \n",
      " It should be set to 65000 to avoid operational disruption. \n",
      " If you no longer wish to see this warning, set SOLR_ULIMIT_CHECKS to false in your profile or solr.in.sh\n",
      "Waiting up to 180 seconds to see Solr running on port 8983 [|] [/] [-] [\\] [|] [/] [-] [\\] [|] [/] [-] [\\] [|] [/] [-] [\\]  \n",
      "Started Solr server on port 8983 (pid=22231). Happy searching!\n",
      "\n",
      "  "
     ]
    }
   ],
   "source": [
    "!../solr-7.3.0/bin/solr start"
   ]
  },
  {
   "cell_type": "code",
   "execution_count": 9,
   "metadata": {},
   "outputs": [
    {
     "name": "stdout",
     "output_type": "stream",
     "text": [
      "WARNING: Using _default configset with data driven schema functionality. NOT RECOMMENDED for production use.\n",
      "         To turn off: bin/solr config -c ettoday -p 8983 -property update.autoCreateFields -value false\n",
      "\n",
      "Created new core 'ettoday'\n"
     ]
    }
   ],
   "source": [
    "!../solr-7.3.0/bin/solr create -c ettoday"
   ]
  },
  {
   "cell_type": "code",
   "execution_count": 10,
   "metadata": {},
   "outputs": [
    {
     "name": "stdout",
     "output_type": "stream",
     "text": [
      "{\n",
      "  \"responseHeader\":{\n",
      "    \"status\":0,\n",
      "    \"QTime\":196646}}\n"
     ]
    },
    {
     "name": "stderr",
     "output_type": "stream",
     "text": [
      "  % Total    % Received % Xferd  Average Speed   Time    Time     Time  Current\n",
      "                                 Dload  Upload   Total   Spent    Left  Speed\n",
      "\r",
      "  0     0    0     0    0     0      0      0 --:--:-- --:--:-- --:--:--     0\r",
      "  0 1128M    0     0    0 2816k      0  2816k  0:06:50 --:--:--  0:06:50 3628k\r",
      "  0 1128M    0     0    0 4784k      0  4784k  0:04:01  0:00:01  0:04:00 2698k\r",
      "  0 1128M    0     0    0 8032k      0  4016k  0:04:47  0:00:02  0:04:45 2899k\r",
      "  1 1128M    0     0    1 13.0M      0  4448k  0:04:19  0:00:03  0:04:16 3538k\r",
      "  1 1128M    0     0    1 19.8M      0  5080k  0:03:47  0:00:04  0:03:43 4276k\r",
      "  2 1128M    0     0    2 25.4M      0  5212k  0:03:41  0:00:05  0:03:36 4673k\r",
      "  2 1128M    0     0    2 33.2M      0  5666k  0:03:23  0:00:06  0:03:17 5837k\r",
      "  3 1128M    0     0    3 41.3M      0  6043k  0:03:11  0:00:07  0:03:04 6847k\r",
      "  4 1128M    0     0    4 46.9M      0  6008k  0:03:12  0:00:08  0:03:04 6945k\r",
      "  4 1128M    0     0    4 54.4M      0  6192k  0:03:06  0:00:09  0:02:57 7051k\r",
      "  5 1128M    0     0    5 62.1M      0  6360k  0:03:01  0:00:10  0:02:51 7495k\r",
      "  6 1128M    0     0    6 69.5M      0  6478k  0:02:58  0:00:11  0:02:47 7461k\r",
      "  6 1128M    0     0    6 75.0M      0  5910k  0:03:15  0:00:13  0:03:02 5797k\r",
      "  6 1128M    0     0    6 75.0M      0  5488k  0:03:30  0:00:14  0:03:16 4823k\r",
      "  6 1128M    0     0    6 75.0M      0  5122k  0:03:45  0:00:15  0:03:30 3539k\r",
      "  6 1128M    0     0    6 75.0M      0  4802k  0:04:00  0:00:16  0:03:44 2213k\r",
      "  6 1128M    0     0    6 75.0M      0  4520k  0:04:15  0:00:17  0:03:58  963k\r",
      "  6 1128M    0     0    6 75.4M      0  4542k  0:04:14  0:00:17  0:03:57 96329\r",
      "  7 1128M    0     0    7 80.1M      0  4559k  0:04:13  0:00:18  0:03:55 1302k\r",
      "  7 1128M    0     0    7 84.8M      0  4575k  0:04:12  0:00:19  0:03:53 2510k\r",
      "  7 1128M    0     0    7 90.1M      0  4615k  0:04:10  0:00:20  0:03:50 3846k\r",
      "  8 1128M    0     0    8 93.0M      0  4534k  0:04:14  0:00:21  0:03:53 4292k\r",
      "  8 1128M    0     0    8 93.0M      0  4330k  0:04:26  0:00:22  0:04:04 3637k\r",
      "  8 1128M    0     0    8 95.1M      0  4235k  0:04:32  0:00:23  0:04:09 3051k\r",
      "  8 1128M    0     0    8  101M      0  4314k  0:04:27  0:00:24  0:04:03 3320k\r",
      "  9 1128M    0     0    9  106M      0  4382k  0:04:23  0:00:25  0:03:58 3453k\r",
      "  9 1128M    0     0    9  112M      0  4412k  0:04:21  0:00:26  0:03:55 3972k\r",
      " 10 1128M    0     0   10  119M      0  4531k  0:04:15  0:00:27  0:03:48 5431k\r",
      " 11 1128M    0     0   11  125M      0  4577k  0:04:12  0:00:28  0:03:44 6180k\r",
      " 11 1128M    0     0   11  132M      0  4684k  0:04:06  0:00:29  0:03:37 6467k\r",
      " 12 1128M    0     0   12  140M      0  4802k  0:04:00  0:00:30  0:03:30 6880k\r",
      " 12 1128M    0     0   12  146M      0  4839k  0:03:58  0:00:31  0:03:27 7039k\r",
      " 13 1128M    0     0   13  152M      0  4868k  0:03:57  0:00:32  0:03:25 6702k\r",
      " 13 1128M    0     0   13  157M      0  4873k  0:03:57  0:00:33  0:03:24 6531k\r",
      " 14 1128M    0     0   14  162M      0  4890k  0:03:56  0:00:34  0:03:22 6082k\r",
      " 14 1128M    0     0   14  169M      0  4945k  0:03:53  0:00:35  0:03:18 5804k\r",
      " 15 1128M    0     0   15  177M      0  5053k  0:03:48  0:00:36  0:03:12 6378k\r",
      " 16 1128M    0     0   16  184M      0  5115k  0:03:45  0:00:37  0:03:08 6639k\r",
      " 16 1128M    0     0   16  190M      0  5146k  0:03:44  0:00:38  0:03:06 6916k\r",
      " 17 1128M    0     0   17  196M      0  5169k  0:03:43  0:00:39  0:03:04 7064k\r",
      " 18 1128M    0     0   18  205M      0  5264k  0:03:39  0:00:40  0:02:59 7498k\r",
      " 18 1128M    0     0   18  212M      0  5294k  0:03:38  0:00:41  0:02:57 7027k\r",
      " 19 1128M    0     0   19  216M      0  5273k  0:03:39  0:00:42  0:02:57 6502k\r",
      " 19 1128M    0     0   19  223M      0  5320k  0:03:37  0:00:43  0:02:54 6650k\r",
      " 20 1128M    0     0   20  229M      0  5340k  0:03:36  0:00:44  0:02:52 6691k\r",
      " 20 1128M    0     0   20  235M      0  5349k  0:03:36  0:00:45  0:02:51 6055k\r",
      " 21 1128M    0     0   21  241M      0  5368k  0:03:35  0:00:46  0:02:49 5966k\r",
      " 21 1128M    0     0   21  246M      0  5379k  0:03:34  0:00:47  0:02:47 6251k\r",
      " 22 1128M    0     0   22  251M      0  5355k  0:03:35  0:00:48  0:02:47 5653k\r",
      " 22 1128M    0     0   22  254M      0  5322k  0:03:37  0:00:49  0:02:48 5163k\r",
      " 22 1128M    0     0   22  258M      0  5286k  0:03:38  0:00:50  0:02:48 4720k\r",
      " 23 1128M    0     0   23  263M      0  5281k  0:03:38  0:00:51  0:02:47 4518k\r",
      " 23 1128M    0     0   23  270M      0  5326k  0:03:36  0:00:52  0:02:44 4808k\r",
      " 24 1128M    0     0   24  278M      0  5375k  0:03:34  0:00:53  0:02:41 5593k\r",
      " 25 1128M    0     0   25  285M      0  5419k  0:03:33  0:00:54  0:02:39 6373k\r",
      " 25 1128M    0     0   25  291M      0  5426k  0:03:32  0:00:55  0:02:37 6797k\r",
      " 26 1128M    0     0   26  296M      0  5424k  0:03:33  0:00:56  0:02:37 6869k\r",
      " 26 1128M    0     0   26  303M      0  5445k  0:03:32  0:00:57  0:02:35 6715k\r",
      " 27 1128M    0     0   27  310M      0  5488k  0:03:30  0:00:58  0:02:32 6646k\r",
      " 28 1128M    0     0   28  318M      0  5528k  0:03:29  0:00:59  0:02:30 6686k\r",
      " 28 1128M    0     0   28  326M      0  5569k  0:03:27  0:01:00  0:02:27 7147k\r",
      " 29 1128M    0     0   29  332M      0  5578k  0:03:27  0:01:01  0:02:26 7311k\r",
      " 30 1128M    0     0   30  338M      0  5597k  0:03:26  0:01:02  0:02:24 7322k\r",
      " 30 1128M    0     0   30  346M      0  5629k  0:03:25  0:01:03  0:02:22 7269k\r",
      " 31 1128M    0     0   31  352M      0  5645k  0:03:24  0:01:04  0:02:20 6996k\r",
      " 31 1128M    0     0   31  360M      0  5674k  0:03:23  0:01:05  0:02:18 6923k\r",
      " 32 1128M    0     0   32  366M      0  5689k  0:03:23  0:01:06  0:02:17 6988k\r",
      " 32 1128M    0     0   32  372M      0  5690k  0:03:23  0:01:07  0:02:16 6867k\r",
      " 33 1128M    0     0   33  376M      0  5673k  0:03:23  0:01:08  0:02:15 6229k\r",
      " 34 1128M    0     0   34  384M      0  5700k  0:03:22  0:01:09  0:02:13 6432k\r",
      " 34 1128M    0     0   34  392M      0  5743k  0:03:21  0:01:10  0:02:11 6636k\r",
      " 35 1128M    0     0   35  401M      0  5783k  0:03:19  0:01:11  0:02:08 7044k\r",
      " 36 1128M    0     0   36  408M      0  5808k  0:03:18  0:01:12  0:02:06 7301k\r",
      " 36 1128M    0     0   36  413M      0  5803k  0:03:19  0:01:13  0:02:06 7477k\r",
      " 37 1128M    0     0   37  419M      0  5804k  0:03:19  0:01:14  0:02:05 7233k\r",
      " 37 1128M    0     0   37  426M      0  5822k  0:03:18  0:01:15  0:02:03 6961k\r",
      " 38 1128M    0     0   38  435M      0  5862k  0:03:17  0:01:16  0:02:01 6993k\r",
      " 39 1128M    0     0   39  440M      0  5863k  0:03:17  0:01:17  0:02:00 6721k\r",
      " 39 1128M    0     0   39  445M      0  5846k  0:03:17  0:01:18  0:01:59 6525k\r",
      " 39 1128M    0     0   39  449M      0  5827k  0:03:18  0:01:19  0:01:59 6163k\r",
      " 40 1128M    0     0   40  456M      0  5843k  0:03:17  0:01:20  0:01:57 6104k\r",
      " 41 1128M    0     0   41  462M      0  5851k  0:03:17  0:01:21  0:01:56 5662k\r",
      " 41 1128M    0     0   41  470M      0  5870k  0:03:16  0:01:22  0:01:54 5955k\r",
      " 42 1128M    0     0   42  477M      0  5890k  0:03:16  0:01:23  0:01:53 6593k\r",
      " 42 1128M    0     0   42  482M      0  5880k  0:03:16  0:01:24  0:01:52 6742k\r",
      " 43 1128M    0     0   43  487M      0  5876k  0:03:16  0:01:25  0:01:51 6456k\r",
      " 43 1128M    0     0   43  494M      0  5887k  0:03:16  0:01:26  0:01:50 6472k\r",
      " 44 1128M    0     0   44  502M      0  5918k  0:03:15  0:01:27  0:01:48 6700k\r",
      " 45 1128M    0     0   45  511M      0  5950k  0:03:14  0:01:28  0:01:46 6951k\r",
      " 45 1128M    0     0   45  519M      0  5973k  0:03:13  0:01:29  0:01:44 7472k\r",
      " 46 1128M    0     0   46  527M      0  5999k  0:03:12  0:01:30  0:01:42 8066k\r",
      " 47 1128M    0     0   47  535M      0  6023k  0:03:11  0:01:31  0:01:40 8421k\r",
      " 47 1128M    0     0   47  540M      0  6013k  0:03:12  0:01:32  0:01:40 7614k\r",
      " 48 1128M    0     0   48  545M      0  6006k  0:03:12  0:01:33  0:01:39 7017k\r",
      " 48 1128M    0     0   48  549M      0  5983k  0:03:13  0:01:34  0:01:39 6194k\r",
      " 49 1128M    0     0   49  556M      0  6000k  0:03:12  0:01:35  0:01:37 6007k\r",
      " 49 1128M    0     0   49  564M      0  6016k  0:03:12  0:01:36  0:01:36 5858k\r",
      " 50 1128M    0     0   50  570M      0  6018k  0:03:12  0:01:37  0:01:35 6189k\r",
      " 51 1128M    0     0   51  577M      0  6033k  0:03:11  0:01:38  0:01:33 6556k\r",
      " 51 1128M    0     0   51  584M      0  6041k  0:03:11  0:01:39  0:01:32 7038k\r",
      " 52 1128M    0     0   52  591M      0  6060k  0:03:10  0:01:40  0:01:30 7194k\r",
      " 53 1128M    0     0   53  599M      0  6080k  0:03:10  0:01:41  0:01:29 7332k\r",
      " 53 1128M    0     0   53  606M      0  6088k  0:03:09  0:01:42  0:01:27 7391k\r",
      " 54 1128M    0     0   54  614M      0  6108k  0:03:09  0:01:43  0:01:26 7547k\r",
      " 55 1128M    0     0   55  621M      0  6119k  0:03:08  0:01:44  0:01:24 7774k\r",
      " 55 1128M    0     0   55  629M      0  6140k  0:03:08  0:01:45  0:01:23 7787k\r",
      " 56 1128M    0     0   56  635M      0  6141k  0:03:08  0:01:46  0:01:22 7336k\r",
      " 56 1128M    0     0   56  641M      0  6142k  0:03:08  0:01:47  0:01:21 7280k\r",
      " 57 1128M    0     0   57  646M      0  6129k  0:03:08  0:01:48  0:01:20 6522k\r",
      " 57 1128M    0     0   57  651M      0  6121k  0:03:08  0:01:49  0:01:19 6041k\r",
      " 58 1128M    0     0   58  658M      0  6127k  0:03:08  0:01:50  0:01:18 5829k\r",
      " 59 1128M    0     0   59  666M      0  6147k  0:03:07  0:01:51  0:01:16 6275k\r",
      " 59 1128M    0     0   59  674M      0  6165k  0:03:07  0:01:52  0:01:15 6650k\r",
      " 60 1128M    0     0   60  681M      0  6174k  0:03:07  0:01:53  0:01:14 7149k\r",
      " 60 1128M    0     0   60  687M      0  6172k  0:03:07  0:01:54  0:01:13 7413k\r",
      " 61 1128M    0     0   61  692M      0  6170k  0:03:07  0:01:55  0:01:12 7118k\r",
      " 62 1128M    0     0   62  699M      0  6178k  0:03:07  0:01:56  0:01:11 6901k\r",
      " 62 1128M    0     0   62  708M      0  6200k  0:03:06  0:01:57  0:01:09 6954k\r",
      " 63 1128M    0     0   63  714M      0  6198k  0:03:06  0:01:58  0:01:08 6784k\r",
      " 63 1128M    0     0   63  721M      0  6205k  0:03:06  0:01:59  0:01:07 6944k\r",
      " 64 1128M    0     0   64  728M      0  6216k  0:03:05  0:02:00  0:01:05 7298k\r",
      " 65 1128M    0     0   65  736M      0  6230k  0:03:05  0:02:01  0:01:04 7254k\r",
      " 65 1128M    0     0   65  742M      0  6233k  0:03:05  0:02:02  0:01:03 7058k\r",
      " 66 1128M    0     0   66  748M      0  6231k  0:03:05  0:02:03  0:01:02 6907k\r",
      " 66 1128M    0     0   66  754M      0  6226k  0:03:05  0:02:04  0:01:01 6761k\r",
      " 67 1128M    0     0   67  760M      0  6233k  0:03:05  0:02:05  0:01:00 6618k\r",
      " 68 1128M    0     0   68  768M      0  6243k  0:03:05  0:02:06  0:00:59 6693k\r",
      " 68 1128M    0     0   68  775M      0  6253k  0:03:04  0:02:07  0:00:57 6736k\r",
      " 69 1128M    0     0   69  780M      0  6247k  0:03:04  0:02:08  0:00:56 6680k\r",
      " 69 1128M    0     0   69  787M      0  6248k  0:03:04  0:02:09  0:00:55 6775k\r",
      " 70 1128M    0     0   70  793M      0  6251k  0:03:04  0:02:10  0:00:54 6613k\r",
      " 70 1128M    0     0   70  800M      0  6256k  0:03:04  0:02:11  0:00:53 6566k\r",
      " 71 1128M    0     0   71  807M      0  6264k  0:03:04  0:02:12  0:00:52 6520k\r",
      " 72 1128M    0     0   72  814M      0  6271k  0:03:04  0:02:13  0:00:51 6959k\r",
      " 72 1128M    0     0   72  821M      0  6277k  0:03:04  0:02:14  0:00:50 7050k\r",
      " 73 1128M    0     0   73  827M      0  6274k  0:03:04  0:02:15  0:00:49 6973k\r",
      " 73 1128M    0     0   73  833M      0  6278k  0:03:04  0:02:16  0:00:48 6890k\r",
      " 74 1128M    0     0   74  840M      0  6281k  0:03:03  0:02:17  0:00:46 6690k\r",
      " 74 1128M    0     0   74  843M      0  6262k  0:03:04  0:02:18  0:00:46 5979k\r",
      " 75 1128M    0     0   75  848M      0  6251k  0:03:04  0:02:19  0:00:45 5522k\r",
      " 75 1128M    0     0   75  855M      0  6256k  0:03:04  0:02:20  0:00:44 5773k\r",
      " 76 1128M    0     0   76  861M      0  6255k  0:03:04  0:02:21  0:00:43 5594k\r",
      " 76 1128M    0     0   76  868M      0  6260k  0:03:04  0:02:22  0:00:42 5727k\r",
      " 77 1128M    0     0   77  874M      0  6261k  0:03:04  0:02:23  0:00:41 6242k\r",
      " 78 1128M    0     0   78  880M      0  6261k  0:03:04  0:02:24  0:00:40 6560k\r",
      " 78 1128M    0     0   78  887M      0  6267k  0:03:04  0:02:25  0:00:39 6580k\r",
      " 79 1128M    0     0   79  893M      0  6265k  0:03:04  0:02:26  0:00:38 6612k\r",
      " 79 1128M    0     0   79  898M      0  6257k  0:03:04  0:02:27  0:00:37 6171k\r",
      " 80 1128M    0     0   80  903M      0  6252k  0:03:04  0:02:28  0:00:36 5966k\r",
      " 80 1128M    0     0   80  907M      0  6235k  0:03:05  0:02:29  0:00:36 5480k\r",
      " 80 1128M    0     0   80  909M      0  6211k  0:03:06  0:02:30  0:00:36 4537k\r",
      " 80 1128M    0     0   80  912M      0  6146k  0:03:08  0:02:32  0:00:36 3630k\r",
      " 81 1128M    0     0   81  916M      0  6175k  0:03:07  0:02:32  0:00:35 3766k\r",
      " 81 1128M    0     0   81  920M      0  6163k  0:03:07  0:02:33  0:00:34 3550k\r",
      " 82 1128M    0     0   82  927M      0  6164k  0:03:07  0:02:34  0:00:33 3930k\r",
      " 82 1128M    0     0   82  931M      0  6155k  0:03:07  0:02:35  0:00:32 4507k\r",
      " 83 1128M    0     0   83  937M      0  6153k  0:03:07  0:02:36  0:00:31 5535k\r",
      " 83 1128M    0     0   83  942M      0  6147k  0:03:07  0:02:37  0:00:30 5316k\r",
      " 84 1128M    0     0   84  949M      0  6154k  0:03:07  0:02:38  0:00:29 5866k\r",
      " 84 1128M    0     0   84  955M      0  6152k  0:03:07  0:02:39  0:00:28 5922k\r",
      " 85 1128M    0     0   85  960M      0  6145k  0:03:08  0:02:40  0:00:28 5835k\r",
      " 85 1128M    0     0   85  966M      0  6146k  0:03:08  0:02:41  0:00:27 5868k\r",
      " 86 1128M    0     0   86  973M      0  6153k  0:03:07  0:02:42  0:00:25 6265k\r",
      " 86 1128M    0     0   86  978M      0  6149k  0:03:07  0:02:43  0:00:24 6006k\r",
      " 87 1128M    0     0   87  982M      0  6133k  0:03:08  0:02:44  0:00:24 5589k\r",
      " 87 1128M    0     0   87  986M      0  6122k  0:03:08  0:02:45  0:00:23 5405k\r",
      " 87 1128M    0     0   87  991M      0  6114k  0:03:08  0:02:46  0:00:22 5141k\r",
      " 88 1128M    0     0   88  995M      0  6106k  0:03:09  0:02:47  0:00:22 4569k\r",
      " 88 1128M    0     0   88  999M      0  6093k  0:03:09  0:02:48  0:00:21 4229k\r",
      " 88 1128M    0     0   88 1001M      0  6067k  0:03:10  0:02:49  0:00:21 3870k\r",
      " 89 1128M    0     0   89 1007M      0  6065k  0:03:10  0:02:50  0:00:20 4192k\r",
      " 89 1128M    0     0   89 1012M      0  6062k  0:03:10  0:02:51  0:00:19 4322k\r",
      " 90 1128M    0     0   90 1017M      0  6057k  0:03:10  0:02:52  0:00:18 4436k\r",
      " 90 1128M    0     0   90 1022M      0  6052k  0:03:10  0:02:53  0:00:17 4739k\r",
      " 91 1128M    0     0   91 1028M      0  6051k  0:03:10  0:02:54  0:00:16 5512k\r",
      " 91 1128M    0     0   91 1032M      0  6042k  0:03:11  0:02:55  0:00:16 5193k\r",
      " 91 1128M    0     0   91 1037M      0  6036k  0:03:11  0:02:56  0:00:15 5140k\r",
      " 92 1128M    0     0   92 1042M      0  6033k  0:03:11  0:02:57  0:00:14 5262k\r",
      " 92 1128M    0     0   92 1049M      0  6037k  0:03:11  0:02:58  0:00:13 5513k\r",
      " 93 1128M    0     0   93 1055M      0  6039k  0:03:11  0:02:59  0:00:12 5646k\r",
      " 94 1128M    0     0   94 1062M      0  6047k  0:03:11  0:03:00  0:00:11 6261k\r",
      " 94 1128M    0     0   94 1069M      0  6049k  0:03:11  0:03:01  0:00:10 6511k\r",
      " 95 1128M    0     0   95 1076M      0  6054k  0:03:10  0:03:02  0:00:08 6652k\r",
      " 95 1128M    0     0   95 1079M      0  6043k  0:03:11  0:03:03  0:00:08 6211k\r",
      " 96 1128M    0     0   96 1083M      0  6032k  0:03:11  0:03:04  0:00:07 5764k\r",
      " 96 1128M    0     0   96 1090M      0  6033k  0:03:11  0:03:05  0:00:06 5580k\r",
      " 97 1128M    0     0   97 1097M      0  6042k  0:03:11  0:03:06  0:00:05 5804k\r",
      " 97 1128M    0     0   97 1104M      0  6047k  0:03:11  0:03:07  0:00:04 5864k\r",
      " 98 1128M    0     0   98 1109M      0  6040k  0:03:11  0:03:08  0:00:03 5951k\r",
      " 98 1128M    0     0   98 1114M      0  6040k  0:03:11  0:03:09  0:00:02 6338k\r",
      " 99 1128M    0     0   99 1122M      0  6050k  0:03:11  0:03:10  0:00:01 6569k\r",
      " 99 1128M    0     0   99 1128M      0  6047k  0:03:11  0:03:11 --:--:-- 6215k\r",
      "100 1128M    0     0  100 1128M      0  6019k  0:03:12  0:03:12 --:--:-- 4943k\r",
      "100 1128M    0     0  100 1128M      0  5987k  0:03:13  0:03:13 --:--:-- 3975k\r",
      "100 1128M    0     0  100 1128M      0  5957k  0:03:14  0:03:14 --:--:-- 2782k\r",
      "100 1128M    0     0  100 1128M      0  5926k  0:03:15  0:03:15 --:--:-- 1225k\r",
      "100 1128M    0    60  100 1128M      0  5896k  0:03:16  0:03:16 --:--:--  114k\n"
     ]
    }
   ],
   "source": [
    "%%bash\n",
    "curl 'http://localhost:8983/solr/ettoday/update?commit=true' \\\n",
    "    --data-binary @../data/single.json \\\n",
    "    -H 'Content-type:application/json'"
   ]
  },
  {
   "cell_type": "code",
   "execution_count": 11,
   "metadata": {},
   "outputs": [
    {
     "name": "stdout",
     "output_type": "stream",
     "text": [
      "1.8G\t../solr-7.3.0/\r\n"
     ]
    }
   ],
   "source": [
    "!du -sh ../solr-7.3.0/"
   ]
  },
  {
   "cell_type": "code",
   "execution_count": 12,
   "metadata": {},
   "outputs": [],
   "source": [
    "# %%bash\n",
    "# curl http://localhost:8983/solr/ettoday/query -d '\n",
    "# {\n",
    "#   \"query\" : \"body:中文\",\n",
    "# }'"
   ]
  },
  {
   "cell_type": "code",
   "execution_count": 15,
   "metadata": {},
   "outputs": [
    {
     "name": "stderr",
     "output_type": "stream",
     "text": [
      "100%|██████████| 100000/100000 [46:26<00:00, 35.88it/s]\n"
     ]
    }
   ],
   "source": [
    "queries = np.load('../data/queries.npy')\n",
    "\n",
    "cmd_fmt = 'curl -s http://localhost:8983/solr/ettoday/query -d \"{}\"'\n",
    "\n",
    "def solr_query(q):\n",
    "    cmd = cmd_fmt.format({\n",
    "        'query': 'body:{}'.format(q)\n",
    "    })\n",
    "    res = json.loads(check_output(cmd, shell=True).decode('utf-8'))\n",
    "    return res['responseHeader']['QTime']\n",
    "\n",
    "df = pd.DataFrame(columns=['size', 'solr_time', 'solr_real_time'])\n",
    "solr_time = 0\n",
    "start_time = time.time()\n",
    "for i, q in enumerate(tqdm(queries)):\n",
    "    solr_time += solr_query(q)\n",
    "    if (i + 1) % 1000 == 0:\n",
    "        data = {\n",
    "            'size': i + 1, \n",
    "            'solr_time': solr_time / 1000, \n",
    "            'solr_real_time': time.time() - start_time\n",
    "        }\n",
    "        df = df.append(data, ignore_index=True)\n",
    "\n",
    "df.to_csv('../data/solr_df.csv', index=False)"
   ]
  },
  {
   "cell_type": "code",
   "execution_count": 16,
   "metadata": {},
   "outputs": [
    {
     "data": {
      "image/png": "[encoded data removed]",
      "text/plain": [
       "<Figure size 600x400 with 1 Axes>"
      ]
     },
     "metadata": {},
     "output_type": "display_data"
    }
   ],
   "source": [
    "fig, ax = plt.subplots(dpi=100)\n",
    "df.plot(ax=ax, x='size', y='solr_time')\n",
    "df.plot(ax=ax, x='size', y='solr_real_time')\n",
    "ax.set_ylabel('Time(s)')\n",
    "ax.set_xlabel('Number of Queries')\n",
    "ax.set_title('Query Time vs Query Number')\n",
    "plt.show()"
   ]
  },
  {
   "cell_type": "code",
   "execution_count": 17,
   "metadata": {},
   "outputs": [
    {
     "name": "stdout",
     "output_type": "stream",
     "text": [
      "{\n",
      "  \"responseHeader\":{\n",
      "    \"status\":0,\n",
      "    \"QTime\":330}}\n"
     ]
    },
    {
     "name": "stderr",
     "output_type": "stream",
     "text": [
      "  % Total    % Received % Xferd  Average Speed   Time    Time     Time  Current\n",
      "                                 Dload  Upload   Total   Spent    Left  Speed\n",
      "\r",
      "  0     0    0     0    0     0      0      0 --:--:-- --:--:-- --:--:--     0\r",
      "100    57  100    57    0     0     57      0  0:00:01 --:--:--  0:00:01   168\n"
     ]
    }
   ],
   "source": [
    "%%bash\n",
    "# delete core\n",
    "curl \"http://localhost:8983/solr/admin/cores?action=UNLOAD&core=ettoday&deleteIndex=true&deleteDataDir=true&deleteInstanceDir=true\""
   ]
  },
  {
   "cell_type": "code",
   "execution_count": 18,
   "metadata": {},
   "outputs": [
    {
     "name": "stdout",
     "output_type": "stream",
     "text": [
      "Sending stop command to Solr running on port 8983 ... waiting up to 180 seconds to allow Jetty process 22231 to stop gracefully.\n",
      " [|] [/] [-] [\\]  "
     ]
    }
   ],
   "source": [
    "!../solr-7.3.0/bin/solr stop -all"
   ]
  },
  {
   "cell_type": "code",
   "execution_count": null,
   "metadata": {},
   "outputs": [],
   "source": []
  }
 ],
 "metadata": {
  "kernelspec": {
   "display_name": "Python 3",
   "language": "python",
   "name": "python3"
  },
  "language_info": {
   "codemirror_mode": {
    "name": "ipython",
    "version": 3
   },
   "file_extension": ".py",
   "mimetype": "text/x-python",
   "name": "python",
   "nbconvert_exporter": "python",
   "pygments_lexer": "ipython3",
   "version": "3.6.2"
  }
 },
 "nbformat": 4,
 "nbformat_minor": 2
}
