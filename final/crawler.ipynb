{
 "cells": [
  {
   "cell_type": "code",
   "execution_count": 3,
   "metadata": {},
   "outputs": [],
   "source": [
    "import json\n",
    "import time\n",
    "import random\n",
    "import pathlib\n",
    "import urllib.request\n",
    "\n",
    "import bs4\n",
    "from tqdm import tqdm"
   ]
  },
  {
   "cell_type": "code",
   "execution_count": 10,
   "metadata": {},
   "outputs": [
    {
     "name": "stderr",
     "output_type": "stream",
     "text": [
      "100%|██████████| 80/80 [06:32<00:00,  4.90s/it]\n"
     ]
    }
   ],
   "source": [
    "# Fetch slugs\n",
    "targets = [\n",
    "    'https://tasty.co/api/recipes/recent?size=20&from={}&page={}&from_offset=1&__amp_source_origin=https%3A%2F%2Ftasty.co'.format(idx, idx // 20)\n",
    "    for idx in range(80)\n",
    "]\n",
    "\n",
    "slugs = []\n",
    "for url in tqdm(targets):\n",
    "    req = urllib.request.Request(url)\n",
    "    with urllib.request.urlopen(req) as response:\n",
    "        data = json.loads(response.read())\n",
    "    slugs.extend(item['slug'] for item in data['items'] if item['type'] == 'recipe')\n",
    "    time.sleep(random.randint(2, 6))\n",
    "\n",
    "with open('slugs.json', 'w') as f:\n",
    "    json.dump(slugs, f, indent=2, ensure_ascii=False)"
   ]
  },
  {
   "cell_type": "code",
   "execution_count": 4,
   "metadata": {},
   "outputs": [
    {
     "name": "stdout",
     "output_type": "stream",
     "text": [
      "#slugs: 1266\n"
     ]
    }
   ],
   "source": [
    "with open('slugs.json') as f:\n",
    "    slugs = json.load(f)\n",
    "print('#slugs:', len(slugs))\n",
    "dst_dir = pathlib.Path('./data/')\n",
    "dst_dir.mkdir(exist_ok=True)"
   ]
  },
  {
   "cell_type": "code",
   "execution_count": 15,
   "metadata": {},
   "outputs": [
    {
     "name": "stderr",
     "output_type": "stream",
     "text": [
      "100%|██████████| 1266/1266 [1:38:46<00:00,  4.68s/it]\n"
     ]
    }
   ],
   "source": [
    "# Fetch html\n",
    "for i, slug in enumerate(tqdm(slugs)):\n",
    "    url = 'https://tasty.co/recipe/{}'.format(slug)\n",
    "    with urllib.request.urlopen(url) as response:\n",
    "        dom = bs4.BeautifulSoup(response.read(), 'lxml')\n",
    "\n",
    "    dst_path = dst_dir / '{:05d}.html'.format(i)\n",
    "    with dst_path.open('w') as f:\n",
    "        f.write(dom.prettify())\n",
    "\n",
    "    time.sleep(random.randint(2, 6))"
   ]
  },
  {
   "cell_type": "code",
   "execution_count": 9,
   "metadata": {},
   "outputs": [
    {
     "name": "stderr",
     "output_type": "stream",
     "text": [
      "100%|██████████| 1266/1266 [01:04<00:00, 19.66it/s]\n"
     ]
    }
   ],
   "source": [
    "# Extract data\n",
    "html_paths = sorted(list(dst_dir.glob('*.html')))\n",
    "for i, path in enumerate(tqdm(html_paths)):\n",
    "    with path.open() as f:\n",
    "        dom = bs4.BeautifulSoup(f.read(), 'lxml')\n",
    "    step = [elem.text.strip().lower() for elem in dom.select('.prep-steps > li')]\n",
    "    ingr = [elem.text.strip().lower() for elem in dom.select('div.ingredients__section li')]\n",
    "    data = {\n",
    "        'slug': slugs[i],\n",
    "        'title': dom.title.string.strip(),\n",
    "        'n_step': len(step),\n",
    "        'n_ingr': len(ingr),\n",
    "        'ingr': ingr,\n",
    "        'step': step,\n",
    "    }\n",
    "    with path.with_suffix('.json').open('w') as f:\n",
    "        json.dump(data, f, ensure_ascii=False, indent=2)"
   ]
  },
  {
   "cell_type": "code",
   "execution_count": 10,
   "metadata": {},
   "outputs": [
    {
     "name": "stdout",
     "output_type": "stream",
     "text": [
      "{\r\n",
      "  \"slug\": \"tortilla-bowl-southwestern-salad\",\r\n",
      "  \"title\": \"Tortilla Bowl Southwestern Salad Recipe by Tasty\",\r\n",
      "  \"n_step\": 12,\r\n",
      "  \"n_ingr\": 16,\r\n",
      "  \"ingr\": [\r\n",
      "    \"4 teaspoons vegetable oil\",\r\n",
      "    \"4  large flour tortillas\",\r\n",
      "    \"2  romaine lettuce hearts\",\r\n",
      "    \"2  tomatoes\",\r\n",
      "    \"½  red onion\",\r\n",
      "    \"2  avocados\",\r\n",
      "    \"1 cup (175 g) corn, canned, rinsed and drained\",\r\n",
      "    \"1 cup (170 g) black beans, canned, rinsed and drained\",\r\n",
      "    \"¼ cup (60 ml) olive oil\",\r\n",
      "    \"¼ cup (60 ml) lime juice\",\r\n",
      "    \"1 clove garlic, minced\",\r\n",
      "    \"⅛ teaspoon cumin\",\r\n",
      "    \"½ teaspoon red pepper flakes\",\r\n",
      "    \"3 tablespoons fresh cilantro, chopped\",\r\n",
      "    \"½ teaspoon salt\",\r\n",
      "    \"½ teaspoon pepper\"\r\n",
      "  ],\r\n",
      "  \"step\": [\r\n",
      "    \"preheat the oven to 350°f (180°c).\",\r\n",
      "    \"pour the vegetable oil (1 teaspoon per bowl) into medium (1.2 quart) oven-proof bowls and rub around to coat the surface. press each tortilla into a greased bowl.\",\r\n",
      "    \"bake for about 10 minutes, until golden brown. let the tortilla bowls cool.\",\r\n",
      "    \"make 3 cuts lengthwise on each of the romaine hearts, remove the stems, and chop into smaller pieces. rinse, drain, and place in a large salad bowl.\",\r\n",
      "    \"dice the tomatoes and add them to the bowl with the romaine.\",\r\n",
      "    \"dice the onion and add it to the salad.\",\r\n",
      "    \"cut the avocados in half, remove the pits, and dice. add to the salad.\",\r\n",
      "    \"add the corn and black beans.\",\r\n",
      "    \"in a small bowl or liquid measuring cup, combine the olive oil, lime juice, garlic, cumin, red pepper flakes, cilantro, salt, and pepper. mix well.\",\r\n",
      "    \"pour the dressing over the salad and toss well.\",\r\n",
      "    \"fill each tortilla bowl with the salad.\",\r\n",
      "    \"enjoy!\"\r\n",
      "  ]\r\n",
      "}"
     ]
    }
   ],
   "source": [
    "!cat ./data/00000.json"
   ]
  },
  {
   "cell_type": "code",
   "execution_count": null,
   "metadata": {},
   "outputs": [],
   "source": []
  }
 ],
 "metadata": {
  "kernelspec": {
   "display_name": "Python 3",
   "language": "python",
   "name": "python3"
  },
  "language_info": {
   "codemirror_mode": {
    "name": "ipython",
    "version": 3
   },
   "file_extension": ".py",
   "mimetype": "text/x-python",
   "name": "python",
   "nbconvert_exporter": "python",
   "pygments_lexer": "ipython3",
   "version": "3.6.2"
  }
 },
 "nbformat": 4,
 "nbformat_minor": 2
}
