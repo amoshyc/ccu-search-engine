{
 "cells": [
  {
   "cell_type": "code",
   "execution_count": 1,
   "metadata": {},
   "outputs": [],
   "source": [
    "import json\n",
    "import pathlib\n",
    "from tqdm import tqdm"
   ]
  },
  {
   "cell_type": "code",
   "execution_count": 2,
   "metadata": {},
   "outputs": [
    {
     "name": "stderr",
     "output_type": "stream",
     "text": [
      "100%|██████████| 1266/1266 [00:00<00:00, 11875.13it/s]\n"
     ]
    }
   ],
   "source": [
    "# Construct single json file\n",
    "data_dir = pathlib.Path('./data/')\n",
    "json_paths = sorted(data_dir.glob('*.json'))\n",
    "out_json = pathlib.Path('./merged.json')\n",
    "data = []\n",
    "for path in tqdm(json_paths):\n",
    "    with path.open() as f:\n",
    "        data.append(json.load(f))\n",
    "with out_json.open('w') as f:\n",
    "    json.dump(data, f, ensure_ascii=False, indent=2)"
   ]
  },
  {
   "cell_type": "code",
   "execution_count": 3,
   "metadata": {},
   "outputs": [
    {
     "name": "stdout",
     "output_type": "stream",
     "text": [
      "*** [WARN] *** Your open file limit is currently 1024.  \n",
      " It should be set to 65000 to avoid operational disruption. \n",
      " If you no longer wish to see this warning, set SOLR_ULIMIT_CHECKS to false in your profile or solr.in.sh\n",
      "*** [WARN] ***  Your Max Processes Limit is currently 31295. \n",
      " It should be set to 65000 to avoid operational disruption. \n",
      " If you no longer wish to see this warning, set SOLR_ULIMIT_CHECKS to false in your profile or solr.in.sh\n",
      "Waiting up to 180 seconds to see Solr running on port 8983 [|]  \b\b\b\b\b\b [/]  \b\b\b\b\b\b [-]  \b\b\b\b\b\b [\\]  \b\b\b\b\b\b [|]  \b\b\b\b\b\b [/]  \b\b\b\b\b\b [-]  \b\b\b\b\b\b [\\]  \b\b\b\b\b\b [|]  \b\b\b\b\b\b [/]  \b\b\b\b\b\b [-]  \b\b\b\b\b\b [\\]  \n",
      "Started Solr server on port 8983 (pid=32001). Happy searching!\n",
      "\n",
      "\b\b\b\b\b\b    \b\b\b\bWARNING: Using _default configset with data driven schema functionality. NOT RECOMMENDED for production use.\n",
      "         To turn off: bin/solr config -c recipe -p 8983 -property update.autoCreateFields -value false\n",
      "\n",
      "Created new core 'recipe'\n"
     ]
    }
   ],
   "source": [
    "%%bash\n",
    "# Start solr\n",
    "../solr-7.3.0/bin/solr start\n",
    "# Create core\n",
    "../solr-7.3.0/bin/solr create -c recipe"
   ]
  },
  {
   "cell_type": "code",
   "execution_count": 4,
   "metadata": {},
   "outputs": [
    {
     "name": "stdout",
     "output_type": "stream",
     "text": [
      "{\n",
      "  \"responseHeader\":{\n",
      "    \"status\":0,\n",
      "    \"QTime\":3152}}\n"
     ]
    },
    {
     "name": "stderr",
     "output_type": "stream",
     "text": [
      "  % Total    % Received % Xferd  Average Speed   Time    Time     Time  Current\n",
      "                                 Dload  Upload   Total   Spent    Left  Speed\n",
      "\r",
      "  0     0    0     0    0     0      0      0 --:--:-- --:--:-- --:--:--     0\r",
      "100 2708k    0     0  100 2708k      0  2248k  0:00:01  0:00:01 --:--:-- 2248k\r",
      "100 2708k    0     0  100 2708k      0  1227k  0:00:02  0:00:02 --:--:-- 1227k\r",
      "100 2708k  100    58  100 2708k     18   857k  0:00:03  0:00:03 --:--:--  857k\r",
      "100 2708k  100    58  100 2708k     18   857k  0:00:03  0:00:03 --:--:--  857k\n"
     ]
    }
   ],
   "source": [
    "%%bash\n",
    "# Commit\n",
    "curl 'http://localhost:8983/solr/recipe/update?commit=true' \\\n",
    "    --data-binary @./merged.json \\\n",
    "    -H 'Content-type:application/json'"
   ]
  },
  {
   "cell_type": "code",
   "execution_count": 7,
   "metadata": {},
   "outputs": [
    {
     "name": "stdout",
     "output_type": "stream",
     "text": [
      "{\n",
      "  \"responseHeader\":{\n",
      "    \"status\":0,\n",
      "    \"QTime\":19,\n",
      "    \"params\":{\n",
      "      \"json\":\"\\n{\\n  \\\"query\\\": \\\"(ingr:lettuce AND ingr:onion AND ingr:tomato AND ingr:pasta) (n_ingr:[2 TO 6]) (n_ingr:2)^0.5 (n_ingr:3)^0.8 (n_ingr:4)^1.5 (n_ingr:5)^0.8 (n_ingr:6)^0.5\\\",\\n  \\\"limit\\\": 1,\\n  \\\"offset\\\": 10,\\n}\"}},\n",
      "  \"response\":{\"numFound\":67,\"start\":10,\"docs\":[\n",
      "      {\n",
      "        \"slug\":[\"beetroot-crisps\"],\n",
      "        \"title\":[\"Beetroot Crisps Recipe by Tasty\"],\n",
      "        \"n_step\":[7],\n",
      "        \"n_ingr\":[3],\n",
      "        \"ingr\":[\"3 bulbs beetroot\",\n",
      "          \"1 l (4 ¼ cups) oil, for frying\",\n",
      "          \"salt, to taste\"],\n",
      "        \"step\":[\"start by preparing your beetroot. wash thoroughly under water and remove the stems and root. next, peel the beetroot and cut each bulb in half.\",\n",
      "          \"next, slice your beetroot as thinly as you can. for ease and speed, it is useful to use a food processor with the slicing attachment; if you don’t have one, just do your best to cut the beetroot as thinly as you can.\",\n",
      "          \"take a baking tray and cover with kitchen paper. lay out the beetroot slices in one even layer, cover with more kitchen paper, and press down. dry the beetroot overnight. (if you can’t wait this long, you can remove the kitchen paper and place the beetroot slices into an oven preheated to 210˚f (100˚c) for 15 minutes or until you can see the slices starting to dehydrate.)\",\n",
      "          \"place a deep saucepan over a medium heat and fill halfway with oil. preheat the oil to 350˚f (180˚c).\",\n",
      "          \"once the oil is up to temperature, cook the beetroot in small batches for around 1 minute or until crispy.\",\n",
      "          \"carefully remove crisps from the oil and drain onto kitchen paper. season with salt.\",\n",
      "          \"enjoy!\"],\n",
      "        \"id\":\"98caf18b-101b-4300-abb8-681522708929\",\n",
      "        \"title_str\":[\"Beetroot Crisps Recipe by Tasty\"],\n",
      "        \"step_str\":[\"carefully remove crisps from the oil and drain onto kitchen paper. season with salt.\",\n",
      "          \"enjoy!\",\n",
      "          \"next, slice your beetroot as thinly as you can. for ease and speed, it is useful to use a food processor with the slicing attachment; if you don’t have one, just do your best to cut the beetroot as thinly as you can.\",\n",
      "          \"once the oil is up to temperature, cook the beetroot in small batches for around 1 minute or until crispy.\",\n",
      "          \"place a deep saucepan over a medium heat and fill halfway with oil. preheat the oil to 350˚f (180˚c).\",\n",
      "          \"start by preparing your beetroot. wash thoroughly under water and remove the stems and root. next, peel the beetroot and cut each bulb in half.\",\n",
      "          \"take a baking tray and cover with kitchen paper. lay out the beetroot slices in one even layer, cover with more kitchen paper, and press down. dry the beetroot overnight. (if you can’t wait this long, you can remove the kitchen paper and place the beetroot\"],\n",
      "        \"_version_\":1604438088052899840,\n",
      "        \"slug_str\":[\"beetroot-crisps\"],\n",
      "        \"ingr_str\":[\"1 l (4 ¼ cups) oil, for frying\",\n",
      "          \"3 bulbs beetroot\",\n",
      "          \"salt, to taste\"]}]\n",
      "  }}\n"
     ]
    },
    {
     "name": "stderr",
     "output_type": "stream",
     "text": [
      "  % Total    % Received % Xferd  Average Speed   Time    Time     Time  Current\n",
      "                                 Dload  Upload   Total   Spent    Left  Speed\n",
      "\r",
      "  0     0    0     0    0     0      0      0 --:--:-- --:--:-- --:--:--     0\r",
      "100  3286  100  3084  100   202  96375   6312 --:--:-- --:--:-- --:--:--  100k\n"
     ]
    }
   ],
   "source": [
    "%%bash\n",
    "\n",
    "curl http://localhost:8983/solr/recipe/query -d '\n",
    "{\n",
    "  \"query\": \"(ingr:lettuce AND ingr:onion AND ingr:tomato AND ingr:pasta) (n_ingr:[2 TO 6]) (n_ingr:2)^0.5 (n_ingr:3)^0.8 (n_ingr:4)^1.5 (n_ingr:5)^0.8 (n_ingr:6)^0.5\",\n",
    "  \"limit\": 1,\n",
    "  \"offset\": 10,\n",
    "}'"
   ]
  },
  {
   "cell_type": "code",
   "execution_count": 70,
   "metadata": {},
   "outputs": [
    {
     "name": "stdout",
     "output_type": "stream",
     "text": [
      "{\n",
      "  \"responseHeader\":{\n",
      "    \"status\":0,\n",
      "    \"QTime\":20}}\n",
      "Sending stop command to Solr running on port 8983 ... waiting up to 180 seconds to allow Jetty process 13340 to stop gracefully.\n",
      "    \b\b\b\b"
     ]
    },
    {
     "name": "stderr",
     "output_type": "stream",
     "text": [
      "  % Total    % Received % Xferd  Average Speed   Time    Time     Time  Current\n",
      "                                 Dload  Upload   Total   Spent    Left  Speed\n",
      "\r",
      "  0     0    0     0    0     0      0      0 --:--:-- --:--:-- --:--:--     0\r",
      "100    56  100    56    0     0   1806      0 --:--:-- --:--:-- --:--:--  1806\n"
     ]
    }
   ],
   "source": [
    "%%bash\n",
    "# Delete core\n",
    "curl \"http://localhost:8983/solr/admin/cores?action=UNLOAD&core=recipe&deleteIndex=true&deleteDataDir=true&deleteInstanceDir=true\"\n",
    "# Shutdown\n",
    "../solr-7.3.0/bin/solr stop -all"
   ]
  },
  {
   "cell_type": "code",
   "execution_count": null,
   "metadata": {},
   "outputs": [],
   "source": []
  }
 ],
 "metadata": {
  "kernelspec": {
   "display_name": "Python 3",
   "language": "python",
   "name": "python3"
  },
  "language_info": {
   "codemirror_mode": {
    "name": "ipython",
    "version": 3
   },
   "file_extension": ".py",
   "mimetype": "text/x-python",
   "name": "python",
   "nbconvert_exporter": "python",
   "pygments_lexer": "ipython3",
   "version": "3.6.2"
  }
 },
 "nbformat": 4,
 "nbformat_minor": 2
}
