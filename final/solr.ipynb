{
 "cells": [
  {
   "cell_type": "code",
   "execution_count": 1,
   "metadata": {},
   "outputs": [],
   "source": [
    "import json\n",
    "import pathlib\n",
    "from tqdm import tqdm"
   ]
  },
  {
   "cell_type": "code",
   "execution_count": 2,
   "metadata": {},
   "outputs": [
    {
     "name": "stderr",
     "output_type": "stream",
     "text": [
      "100%|██████████| 1266/1266 [00:00<00:00, 11875.13it/s]\n"
     ]
    }
   ],
   "source": [
    "# Construct single json file\n",
    "data_dir = pathlib.Path('./data/')\n",
    "json_paths = sorted(data_dir.glob('*.json'))\n",
    "out_json = pathlib.Path('./merged.json')\n",
    "data = []\n",
    "for path in tqdm(json_paths):\n",
    "    with path.open() as f:\n",
    "        data.append(json.load(f))\n",
    "with out_json.open('w') as f:\n",
    "    json.dump(data, f, ensure_ascii=False, indent=2)"
   ]
  },
  {
   "cell_type": "code",
   "execution_count": 2,
   "metadata": {},
   "outputs": [
    {
     "name": "stdout",
     "output_type": "stream",
     "text": [
      "*** [WARN] *** Your open file limit is currently 1024.  \n",
      " It should be set to 65000 to avoid operational disruption. \n",
      " If you no longer wish to see this warning, set SOLR_ULIMIT_CHECKS to false in your profile or solr.in.sh\n",
      "*** [WARN] ***  Your Max Processes Limit is currently 31295. \n",
      " It should be set to 65000 to avoid operational disruption. \n",
      " If you no longer wish to see this warning, set SOLR_ULIMIT_CHECKS to false in your profile or solr.in.sh\n",
      "Waiting up to 180 seconds to see Solr running on port 8983 [|]  \b\b\b\b\b\b [/]  \b\b\b\b\b\b [-]  \b\b\b\b\b\b [\\]  \b\b\b\b\b\b [|]  \b\b\b\b\b\b [/]  \b\b\b\b\b\b [-]  \b\b\b\b\b\b [\\]  \b\b\b\b\b\b [|]  \b\b\b\b\b\b [/]  \b\b\b\b\b\b [-]  \b\b\b\b\b\b [\\]  \b\b\b\b\b\b [|]  \b\b\b\b\b\b [/]  \b\b\b\b\b\b [-]  \b\b\b\b\b\b [\\]  \n",
      "Started Solr server on port 8983 (pid=891). Happy searching!\n",
      "\n",
      "\b\b\b\b\b\b    \b\b\b\bWARNING: Using _default configset with data driven schema functionality. NOT RECOMMENDED for production use.\n",
      "         To turn off: bin/solr config -c recipe -p 8983 -property update.autoCreateFields -value false\n",
      "\n",
      "Created new core 'recipe'\n"
     ]
    }
   ],
   "source": [
    "%%bash\n",
    "# Start solr\n",
    "../solr-7.3.0/bin/solr start\n",
    "# Create core\n",
    "../solr-7.3.0/bin/solr create -c recipe"
   ]
  },
  {
   "cell_type": "code",
   "execution_count": 3,
   "metadata": {},
   "outputs": [
    {
     "name": "stdout",
     "output_type": "stream",
     "text": [
      "{\n",
      "  \"responseHeader\":{\n",
      "    \"status\":0,\n",
      "    \"QTime\":2691}}\n"
     ]
    },
    {
     "name": "stderr",
     "output_type": "stream",
     "text": [
      "  % Total    % Received % Xferd  Average Speed   Time    Time     Time  Current\n",
      "                                 Dload  Upload   Total   Spent    Left  Speed\n",
      "\r",
      "  0     0    0     0    0     0      0      0 --:--:-- --:--:-- --:--:--     0\r",
      "100 2708k    0     0  100 2708k      0  2246k  0:00:01  0:00:01 --:--:-- 2246k\r",
      "100 2708k    0     0  100 2708k      0  1227k  0:00:02  0:00:02 --:--:-- 1227k\r",
      "100 2708k  100    58  100 2708k     21  1004k  0:00:02  0:00:02 --:--:-- 1003k\r",
      "100 2708k  100    58  100 2708k     21  1003k  0:00:02  0:00:02 --:--:-- 1003k\n"
     ]
    }
   ],
   "source": [
    "%%bash\n",
    "# Commit\n",
    "curl 'http://localhost:8983/solr/recipe/update?commit=true' \\\n",
    "    --data-binary @./merged.json \\\n",
    "    -H 'Content-type:application/json'"
   ]
  },
  {
   "cell_type": "code",
   "execution_count": 42,
   "metadata": {},
   "outputs": [
    {
     "name": "stdout",
     "output_type": "stream",
     "text": [
      "{\n",
      "  \"responseHeader\":{\n",
      "    \"status\":400,\n",
      "    \"QTime\":2,\n",
      "    \"params\":{\n",
      "      \"json\":\"\\n{\\n  \\\"query\\\" : \\\"ingr:pasta AND n_ingr:[[4] TO [15]]\\\",\\n  \\\"fields\\\" : [\\\"n_ingr\\\"]\\n}\"}},\n",
      "  \"error\":{\n",
      "    \"metadata\":[\n",
      "      \"error-class\",\"org.apache.solr.common.SolrException\",\n",
      "      \"root-error-class\",\"org.apache.solr.parser.ParseException\"],\n",
      "    \"msg\":\"org.apache.solr.search.SyntaxError: Cannot parse 'ingr:pasta AND n_ingr:[[4] TO [15]]': Encountered \\\" \\\"]\\\" \\\"] \\\"\\\" at line 1, column 25.\\nWas expecting:\\n    \\\"TO\\\" ...\\n    \",\n",
      "    \"code\":400}}\n"
     ]
    },
    {
     "name": "stderr",
     "output_type": "stream",
     "text": [
      "  % Total    % Received % Xferd  Average Speed   Time    Time     Time  Current\n",
      "                                 Dload  Upload   Total   Spent    Left  Speed\n",
      "\r",
      "  0     0    0     0    0     0      0      0 --:--:-- --:--:-- --:--:--     0\r",
      "100   624  100   545  100    79  45416   6583 --:--:-- --:--:-- --:--:-- 52000\n"
     ]
    }
   ],
   "source": [
    "%%bash\n",
    "\n",
    "curl http://localhost:8983/solr/recipe/query -d '\n",
    "{\n",
    "  \"query\" : \"ingr:pasta AND n_ingr:[74] TO *]\",\n",
    "  \"fields\" : [\"n_ingr\"]\n",
    "}'"
   ]
  },
  {
   "cell_type": "code",
   "execution_count": 70,
   "metadata": {},
   "outputs": [
    {
     "name": "stdout",
     "output_type": "stream",
     "text": [
      "{\n",
      "  \"responseHeader\":{\n",
      "    \"status\":0,\n",
      "    \"QTime\":20}}\n",
      "Sending stop command to Solr running on port 8983 ... waiting up to 180 seconds to allow Jetty process 13340 to stop gracefully.\n",
      "    \b\b\b\b"
     ]
    },
    {
     "name": "stderr",
     "output_type": "stream",
     "text": [
      "  % Total    % Received % Xferd  Average Speed   Time    Time     Time  Current\n",
      "                                 Dload  Upload   Total   Spent    Left  Speed\n",
      "\r",
      "  0     0    0     0    0     0      0      0 --:--:-- --:--:-- --:--:--     0\r",
      "100    56  100    56    0     0   1806      0 --:--:-- --:--:-- --:--:--  1806\n"
     ]
    }
   ],
   "source": [
    "%%bash\n",
    "# Delete core\n",
    "curl \"http://localhost:8983/solr/admin/cores?action=UNLOAD&core=recipe&deleteIndex=true&deleteDataDir=true&deleteInstanceDir=true\"\n",
    "# Shutdown\n",
    "../solr-7.3.0/bin/solr stop -all"
   ]
  },
  {
   "cell_type": "code",
   "execution_count": null,
   "metadata": {},
   "outputs": [],
   "source": []
  }
 ],
 "metadata": {
  "kernelspec": {
   "display_name": "Python 3",
   "language": "python",
   "name": "python3"
  },
  "language_info": {
   "codemirror_mode": {
    "name": "ipython",
    "version": 3
   },
   "file_extension": ".py",
   "mimetype": "text/x-python",
   "name": "python",
   "nbconvert_exporter": "python",
   "pygments_lexer": "ipython3",
   "version": "3.6.2"
  }
 },
 "nbformat": 4,
 "nbformat_minor": 2
}
