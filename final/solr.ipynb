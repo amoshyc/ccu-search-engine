{
 "cells": [
  {
   "cell_type": "code",
   "execution_count": 1,
   "metadata": {},
   "outputs": [],
   "source": [
    "import json\n",
    "import pathlib\n",
    "from tqdm import tqdm"
   ]
  },
  {
   "cell_type": "code",
   "execution_count": 28,
   "metadata": {},
   "outputs": [
    {
     "name": "stderr",
     "output_type": "stream",
     "text": [
      "100%|██████████| 1266/1266 [00:00<00:00, 8521.40it/s] \n"
     ]
    }
   ],
   "source": [
    "# Construct single json file\n",
    "data_dir = pathlib.Path('./data/')\n",
    "json_paths = sorted(data_dir.glob('*.json'))\n",
    "out_json = pathlib.Path('./merged.json')\n",
    "data = []\n",
    "for path in tqdm(json_paths):\n",
    "    with path.open() as f:\n",
    "        data.append(json.load(f))\n",
    "with out_json.open('w') as f:\n",
    "    json.dump(data, f, ensure_ascii=False, indent=2)"
   ]
  },
  {
   "cell_type": "code",
   "execution_count": 33,
   "metadata": {},
   "outputs": [
    {
     "name": "stdout",
     "output_type": "stream",
     "text": [
      "*** [WARN] *** Your open file limit is currently 1024.  \n",
      " It should be set to 65000 to avoid operational disruption. \n",
      " If you no longer wish to see this warning, set SOLR_ULIMIT_CHECKS to false in your profile or solr.in.sh\n",
      "*** [WARN] ***  Your Max Processes Limit is currently 31295. \n",
      " It should be set to 65000 to avoid operational disruption. \n",
      " If you no longer wish to see this warning, set SOLR_ULIMIT_CHECKS to false in your profile or solr.in.sh\n",
      "Waiting up to 180 seconds to see Solr running on port 8983 [|]  \b\b\b\b\b\b [/]  \b\b\b\b\b\b [-]  \b\b\b\b\b\b [\\]  \b\b\b\b\b\b [|]  \b\b\b\b\b\b [/]  \b\b\b\b\b\b [-]  \b\b\b\b\b\b [\\]  \n",
      "Started Solr server on port 8983 (pid=13340). Happy searching!\n",
      "\n",
      "\b\b\b\b\b\b    \b\b\b\bWARNING: Using _default configset with data driven schema functionality. NOT RECOMMENDED for production use.\n",
      "         To turn off: bin/solr config -c recipe -p 8983 -property update.autoCreateFields -value false\n",
      "\n",
      "Created new core 'recipe'\n"
     ]
    }
   ],
   "source": [
    "%%bash\n",
    "# Start solr\n",
    "../solr-7.3.0/bin/solr start\n",
    "# Create core\n",
    "../solr-7.3.0/bin/solr create -c recipe"
   ]
  },
  {
   "cell_type": "code",
   "execution_count": 34,
   "metadata": {},
   "outputs": [
    {
     "name": "stdout",
     "output_type": "stream",
     "text": [
      "{\n",
      "  \"responseHeader\":{\n",
      "    \"status\":0,\n",
      "    \"QTime\":2734}}\n"
     ]
    },
    {
     "name": "stderr",
     "output_type": "stream",
     "text": [
      "  % Total    % Received % Xferd  Average Speed   Time    Time     Time  Current\n",
      "                                 Dload  Upload   Total   Spent    Left  Speed\n",
      "\r",
      "  0     0    0     0    0     0      0      0 --:--:-- --:--:-- --:--:--     0\r",
      "100 2708k    0     0  100 2708k      0  2255k  0:00:01  0:00:01 --:--:-- 2255k\r",
      "100 2708k    0     0  100 2708k      0  1229k  0:00:02  0:00:02 --:--:-- 1230k\r",
      "100 2708k  100    58  100 2708k     21   989k  0:00:02  0:00:02 --:--:--  989k\n"
     ]
    }
   ],
   "source": [
    "%%bash\n",
    "# Commit\n",
    "curl 'http://localhost:8983/solr/recipe/update?commit=true' \\\n",
    "    --data-binary @./merged.json \\\n",
    "    -H 'Content-type:application/json'"
   ]
  },
  {
   "cell_type": "code",
   "execution_count": 69,
   "metadata": {},
   "outputs": [
    {
     "name": "stdout",
     "output_type": "stream",
     "text": [
      "{\n",
      "  \"responseHeader\":{\n",
      "    \"status\":0,\n",
      "    \"QTime\":1,\n",
      "    \"params\":{\n",
      "      \"json\":\"\\n{\\n  \\\"query\\\": \\\"(ingr:onion AND ingr:tomato) (n_ingr:[10 TO 10])\\\",\\n  \\\"limit\\\": 1,\\n  \\\"offset\\\": 10,\\n}\"}},\n",
      "  \"response\":{\"numFound\":300,\"start\":10,\"docs\":[\n",
      "      {\n",
      "        \"slug\":[\"audrey-hepburns-spaghetti-al-pomodoro\"],\n",
      "        \"title\":[\"Audrey Hepburn’s Spaghetti Al Pomodoro Recipe by Tasty\"],\n",
      "        \"n_step\":[7],\n",
      "        \"n_ingr\":[10],\n",
      "        \"ingr\":[\"2 tablespoons extra virgin olive oil\",\n",
      "          \"1 whole small onion, diced\",\n",
      "          \"2 stalks celery, finely diced\",\n",
      "          \"2 cloves garlic, minced\",\n",
      "          \"1 large bunch fresh basil, washed, half of the leaves minced and half left whole\",\n",
      "          \"28 oz (795 g) canned whole peeled tomato, 2 cans\",\n",
      "          \"salt, to taste\",\n",
      "          \"1 lb (455 g) dried spathetti\",\n",
      "          \"freshly grated parmigiano-reggiano cheese\",\n",
      "          \"1 cup (125 g) carrots, diced\"],\n",
      "        \"step\":[\"dice the carrots, onion, and celery. thinly slice half of the basil leaves. set aside.\",\n",
      "          \"heat the olive oil in a large pot over medium heat. add the onion, carrots, celery, and garlic. cook until softened but not brown.\",\n",
      "          \"add in the whole basil leaves, garlic, and tomatoes. bring the sauce to a simmer, cover, and cook for 45 minutes, stirring occasionally and breaking apart the larger tomatoes as they cook.\",\n",
      "          \"after 45 minutes, or when the vegetables are tender, remove the sauce from the heat and let rest for 15 minutes.\",\n",
      "          \"while the sauce is simmering, fill another large pot with water and bring to a boil. add salt, if desired. cook the spaghetti until al dente. drain and rinse the pasta with lukewarm water to prevent sticking.\",\n",
      "          \"taste the sauce and add salt, if desired. serve pasta topped generously with sauce, grated parmigiano-reggiano cheese, and the reserved sliced basil leaves.\",\n",
      "          \"enjoy!\"],\n",
      "        \"id\":\"77fd78a7-e624-4fd6-9c65-3ca9e687a2bd\",\n",
      "        \"title_str\":[\"Audrey Hepburn’s Spaghetti Al Pomodoro Recipe by Tasty\"],\n",
      "        \"step_str\":[\"add in the whole basil leaves, garlic, and tomatoes. bring the sauce to a simmer, cover, and cook for 45 minutes, stirring occasionally and breaking apart the larger tomatoes as they cook.\",\n",
      "          \"after 45 minutes, or when the vegetables are tender, remove the sauce from the heat and let rest for 15 minutes.\",\n",
      "          \"dice the carrots, onion, and celery. thinly slice half of the basil leaves. set aside.\",\n",
      "          \"enjoy!\",\n",
      "          \"heat the olive oil in a large pot over medium heat. add the onion, carrots, celery, and garlic. cook until softened but not brown.\",\n",
      "          \"taste the sauce and add salt, if desired. serve pasta topped generously with sauce, grated parmigiano-reggiano cheese, and the reserved sliced basil leaves.\",\n",
      "          \"while the sauce is simmering, fill another large pot with water and bring to a boil. add salt, if desired. cook the spaghetti until al dente. drain and rinse the pasta with lukewarm water to prevent sticking.\"],\n",
      "        \"_version_\":1604333237101920256,\n",
      "        \"slug_str\":[\"audrey-hepburns-spaghetti-al-pomodoro\"],\n",
      "        \"ingr_str\":[\"1 cup (125 g) carrots, diced\",\n",
      "          \"1 large bunch fresh basil, washed, half of the leaves minced and half left whole\",\n",
      "          \"1 lb (455 g) dried spathetti\",\n",
      "          \"1 whole small onion, diced\",\n",
      "          \"2 cloves garlic, minced\",\n",
      "          \"2 stalks celery, finely diced\",\n",
      "          \"2 tablespoons extra virgin olive oil\",\n",
      "          \"28 oz (795 g) canned whole peeled tomato, 2 cans\",\n",
      "          \"freshly grated parmigiano-reggiano cheese\",\n",
      "          \"salt, to taste\"]}]\n",
      "  }}\n"
     ]
    },
    {
     "name": "stderr",
     "output_type": "stream",
     "text": [
      "  % Total    % Received % Xferd  Average Speed   Time    Time     Time  Current\n",
      "                                 Dload  Upload   Total   Spent    Left  Speed\n",
      "\r",
      "  0     0    0     0    0     0      0      0 --:--:-- --:--:-- --:--:--     0\r",
      "100  3767  100  3670  100    97   398k  10777 --:--:-- --:--:-- --:--:--  408k\n"
     ]
    }
   ],
   "source": [
    "%%bash\n",
    "\n",
    "curl http://localhost:8983/solr/recipe/query -d '\n",
    "{\n",
    "  \"query\": \"(ingr:onion AND ingr:tomato) (n_ingr:[10 TO 10])\",\n",
    "  \"limit\": 1,\n",
    "  \"offset\": 10,\n",
    "}'"
   ]
  },
  {
   "cell_type": "code",
   "execution_count": 70,
   "metadata": {},
   "outputs": [
    {
     "name": "stdout",
     "output_type": "stream",
     "text": [
      "{\n",
      "  \"responseHeader\":{\n",
      "    \"status\":0,\n",
      "    \"QTime\":20}}\n",
      "Sending stop command to Solr running on port 8983 ... waiting up to 180 seconds to allow Jetty process 13340 to stop gracefully.\n",
      "    \b\b\b\b"
     ]
    },
    {
     "name": "stderr",
     "output_type": "stream",
     "text": [
      "  % Total    % Received % Xferd  Average Speed   Time    Time     Time  Current\n",
      "                                 Dload  Upload   Total   Spent    Left  Speed\n",
      "\r",
      "  0     0    0     0    0     0      0      0 --:--:-- --:--:-- --:--:--     0\r",
      "100    56  100    56    0     0   1806      0 --:--:-- --:--:-- --:--:--  1806\n"
     ]
    }
   ],
   "source": [
    "%%bash\n",
    "# Delete core\n",
    "curl \"http://localhost:8983/solr/admin/cores?action=UNLOAD&core=recipe&deleteIndex=true&deleteDataDir=true&deleteInstanceDir=true\"\n",
    "# Shutdown\n",
    "../solr-7.3.0/bin/solr stop -all"
   ]
  },
  {
   "cell_type": "code",
   "execution_count": null,
   "metadata": {},
   "outputs": [],
   "source": []
  }
 ],
 "metadata": {
  "kernelspec": {
   "display_name": "Python 3",
   "language": "python",
   "name": "python3"
  },
  "language_info": {
   "codemirror_mode": {
    "name": "ipython",
    "version": 3
   },
   "file_extension": ".py",
   "mimetype": "text/x-python",
   "name": "python",
   "nbconvert_exporter": "python",
   "pygments_lexer": "ipython3",
   "version": "3.6.2"
  }
 },
 "nbformat": 4,
 "nbformat_minor": 2
}
